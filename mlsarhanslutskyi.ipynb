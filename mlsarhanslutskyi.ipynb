{
  "nbformat": 4,
  "nbformat_minor": 0,
  "metadata": {
    "colab": {
      "name": "mlsarhanslutskyi.ipynb",
      "provenance": [],
      "collapsed_sections": []
    },
    "kernelspec": {
      "name": "python3",
      "display_name": "Python 3"
    },
    "language_info": {
      "name": "python"
    }
  },
  "cells": [
    {
      "cell_type": "markdown",
      "source": [
        "# Die Hausarbeit im Teilmodul Machine Learning"
      ],
      "metadata": {
        "id": "kDYOvlFZ2cga"
      }
    },
    {
      "cell_type": "markdown",
      "source": [
        "Vorgelegt von Delhin Sarhan (Matr.Nr.:1611724) & Illia Slutskyi (Matr.Nr.:1625539)"
      ],
      "metadata": {
        "id": "ffKSzkym2pT7"
      }
    },
    {
      "cell_type": "markdown",
      "source": [
        "## 1 Einleitung"
      ],
      "metadata": {
        "id": "cUDPR_xn2uAy"
      }
    },
    {
      "cell_type": "markdown",
      "source": [
        "Die vorgelegte Hausarbeit beschäftigt sich mit der Lebenserwartung der Menschen in Jahren in den 150 verschiedenen UN-Staaten des verwendeten Datensatzes. Das Ziel dieser Hausarbeit ist es den Einfluss des Bildungsstandes auf die mittlere Lebenserwartung des jeweiligen Landes zu ermitteln. Als Kennzahl für den Bildungsstand wird der \"Education Index\" verwendet. Die möglichen Werte des Indexes schwanken zwischen 0 und 1 (näheres zum Education Index unter diesem [Link](https://en.wikipedia.org/wiki/Education_Index#:~:text=An%20Education%20index%20is%20a%20component%20of%20the,GDP%20per%20capita%20and%20life%20expectancy%20of%20countries.)). Je näher der Wert zur Zahl 1 ist, desto höher ist der Bildungsstand. Als Ergebnis wird ein Modell erstellt, welches vorhersagen soll, wie hoch die durchschnittliche Lebenserwartung einer Person in Abhängigkeit des Bildungsstandes in einem ausgewählten Land ist.\n",
        "\n",
        "Beide Variablen wurden im Jahr 2019 erhoben."
      ],
      "metadata": {
        "id": "SzwALmgN24Qs"
      }
    },
    {
      "cell_type": "markdown",
      "source": [
        "## 2 Datensatz"
      ],
      "metadata": {
        "id": "olw5k-HMzs-z"
      }
    },
    {
      "cell_type": "markdown",
      "source": [
        "### 2.1 Datenimport"
      ],
      "metadata": {
        "id": "ie1Az2Us42MF"
      }
    },
    {
      "cell_type": "markdown",
      "source": [
        "Die sieben Bibliotheken (pandas, matplotlib, numpy, statsmodels, math, sklearn und scipy) werden für das spätere Vorgehen importiert. Die Bibliothek pandas wird für das Arbeiten mit den Daten verwendet, d.h. für den Import der Daten, das Berechnen der Kennzahlen und das Transformieren von Daten und/oder Tabellen. Matplotlib wird gebraucht, um die Daten zu visualisieren. Numpy wird importiert, damit das Arbeiten mit den Listen erleichtert wird. Die Bibliothek statsmodels wird benötigt, um die Modelle auszuwerten. Math ermöglicht eine vereinfachte Arbeit mit komplexen Zahlen, wie zum Beispiel mit π- oder mit e-Zahlen. Die Bibliothek sklearn erstellt die Modelle für das Machine Learning und scipy hilft dabei, die Daten zu interpretieren. Mit der letzten Zeile werden alle Abbildungen unter der Programmier-Zelle beim Öffnen des Notebooks angezeigt."
      ],
      "metadata": {
        "id": "SD04F97u5H5M"
      }
    },
    {
      "cell_type": "code",
      "source": [
        "import pandas as pd\n",
        "import matplotlib.pyplot as plt\n",
        "import numpy as np\n",
        "import statsmodels.api as sm\n",
        "import math \n",
        "\n",
        "from sklearn.model_selection import train_test_split\n",
        "from sklearn.linear_model import LinearRegression\n",
        "from sklearn.metrics import mean_squared_error, r2_score, mean_absolute_error\n",
        "\n",
        "from scipy import stats\n",
        "from scipy.stats import kurtosis, skew\n",
        "\n",
        "%matplotlib inline"
      ],
      "metadata": {
        "id": "7hJYO-T3469c",
        "outputId": "ca396ea1-e355-4bf2-9bdc-251b40429d55",
        "colab": {
          "base_uri": "https://localhost:8080/"
        }
      },
      "execution_count": 1,
      "outputs": [
        {
          "output_type": "stream",
          "name": "stderr",
          "text": [
            "/usr/local/lib/python3.7/dist-packages/statsmodels/tools/_testing.py:19: FutureWarning: pandas.util.testing is deprecated. Use the functions in the public API at pandas.testing instead.\n",
            "  import pandas.util.testing as tm\n"
          ]
        }
      ]
    },
    {
      "cell_type": "markdown",
      "source": [
        "Um das Modell für die Vorhersage erstellen zu können,muss zunächst ein Datensatz gebildet werden. Der Datensatz heißt \"ml_dataset.csv\" und verfügt über drei Spalten und 189 Beobachtungsmerkmale. In der ersten Spalte \"state\" sind die betrachteten Länder aufgelistet; die zweite Spalte \"life_expectancy\" enthält die Lebenserwartungen in Jahren, welche bis zur ersten Nachkommastelle aufgerundet wird und die dritte Spalte \"education_index\" verfügt über den Bildungsindex mit Werten zwischen null und eins, welche bis zur dritten Nachkommastelle aufgerundet werden.\n",
        "\n",
        "Der Datensatz wurde im CSV-Format programmiert/codiert und wird im Anschluss mit Pandas eingelesen/importiert. Da die Daten lokal gespeichert sind, ist es nötig, diese zunächst von der Bibliothek \"google.colab\" und ihrer Funktion \"files\" zu importieren. "
      ],
      "metadata": {
        "id": "1LYW3_hu5U4f"
      }
    },
    {
      "cell_type": "code",
      "source": [
        "from google.colab import files\n",
        " \n",
        " \n",
        "uploaded = files.upload()"
      ],
      "metadata": {
        "id": "W86sY9sdHJQX",
        "colab": {
          "resources": {
            "http://localhost:8080/nbextensions/google.colab/files.js": {
              "data": "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",
              "ok": true,
              "headers": [
                [
                  "content-type",
                  "application/javascript"
                ]
              ],
              "status": 200,
              "status_text": ""
            }
          },
          "base_uri": "https://localhost:8080/",
          "height": 73
        },
        "outputId": "da139d91-abf1-41fd-e327-98e409a4e136"
      },
      "execution_count": 2,
      "outputs": [
        {
          "output_type": "display_data",
          "data": {
            "text/plain": [
              "<IPython.core.display.HTML object>"
            ],
            "text/html": [
              "\n",
              "     <input type=\"file\" id=\"files-927109f1-848e-4d27-a226-70e09b425914\" name=\"files[]\" multiple disabled\n",
              "        style=\"border:none\" />\n",
              "     <output id=\"result-927109f1-848e-4d27-a226-70e09b425914\">\n",
              "      Upload widget is only available when the cell has been executed in the\n",
              "      current browser session. Please rerun this cell to enable.\n",
              "      </output>\n",
              "      <script src=\"/nbextensions/google.colab/files.js\"></script> "
            ]
          },
          "metadata": {}
        },
        {
          "output_type": "stream",
          "name": "stdout",
          "text": [
            "Saving ml_dataset.csv to ml_dataset.csv\n"
          ]
        }
      ]
    },
    {
      "cell_type": "code",
      "source": [
        "dataset = pd.read_csv('ml_dataset.csv', sep=';', encoding=\"ISO-8859-1\")"
      ],
      "metadata": {
        "id": "50fEtQy0_EiW"
      },
      "execution_count": 3,
      "outputs": []
    },
    {
      "cell_type": "markdown",
      "source": [
        "### 2.2 Allgemeines zum Datensatz"
      ],
      "metadata": {
        "id": "2515rbpYKPay"
      }
    },
    {
      "cell_type": "markdown",
      "source": [
        "Mithilfe der Biblipthek Pandas wurde die Spalte \"state\" zum Index der unten abgebildeten Tabelle. Damit sich die Spalte nicht doppelt, wurde diese im Code in der zweiten Zeile mit der drop-Methode gelöscht. Dementsrechend verfügt der Datensatz nur noch über zwei Spalten und den zuvor erwähnten 189 Zeilen. "
      ],
      "metadata": {
        "id": "cBQaJeOtKYTc"
      }
    },
    {
      "cell_type": "code",
      "source": [
        "dataset.index = dataset['state']\n",
        "dataset = dataset.drop(['state'], axis = 1)\n",
        "\n",
        "dataset"
      ],
      "metadata": {
        "colab": {
          "base_uri": "https://localhost:8080/",
          "height": 455
        },
        "id": "ZtFzf_NvKZD6",
        "outputId": "534d58f7-dba5-4b9b-b85c-50d82521c390"
      },
      "execution_count": 4,
      "outputs": [
        {
          "output_type": "execute_result",
          "data": {
            "text/plain": [
              "                          life_expectancy  education_index\n",
              "state                                                     \n",
              "Norway                               82.4            0.930\n",
              "Ireland                              82.3            0.922\n",
              "Switzerland                          83.8            0.900\n",
              "Iceland                              83.0            0.926\n",
              "Hong Kong, China (SAR)               84.9            0.880\n",
              "...                                   ...              ...\n",
              "South Sudan                          57.9            0.307\n",
              "Burundi                              61.6            0.417\n",
              "Chad                                 54.2            0.288\n",
              "Central African Republic             53.3            0.353\n",
              "Niger                                62.4            0.249\n",
              "\n",
              "[189 rows x 2 columns]"
            ],
            "text/html": [
              "\n",
              "  <div id=\"df-08027308-fa06-458f-9de9-865ebe2bb044\">\n",
              "    <div class=\"colab-df-container\">\n",
              "      <div>\n",
              "<style scoped>\n",
              "    .dataframe tbody tr th:only-of-type {\n",
              "        vertical-align: middle;\n",
              "    }\n",
              "\n",
              "    .dataframe tbody tr th {\n",
              "        vertical-align: top;\n",
              "    }\n",
              "\n",
              "    .dataframe thead th {\n",
              "        text-align: right;\n",
              "    }\n",
              "</style>\n",
              "<table border=\"1\" class=\"dataframe\">\n",
              "  <thead>\n",
              "    <tr style=\"text-align: right;\">\n",
              "      <th></th>\n",
              "      <th>life_expectancy</th>\n",
              "      <th>education_index</th>\n",
              "    </tr>\n",
              "    <tr>\n",
              "      <th>state</th>\n",
              "      <th></th>\n",
              "      <th></th>\n",
              "    </tr>\n",
              "  </thead>\n",
              "  <tbody>\n",
              "    <tr>\n",
              "      <th>Norway</th>\n",
              "      <td>82.4</td>\n",
              "      <td>0.930</td>\n",
              "    </tr>\n",
              "    <tr>\n",
              "      <th>Ireland</th>\n",
              "      <td>82.3</td>\n",
              "      <td>0.922</td>\n",
              "    </tr>\n",
              "    <tr>\n",
              "      <th>Switzerland</th>\n",
              "      <td>83.8</td>\n",
              "      <td>0.900</td>\n",
              "    </tr>\n",
              "    <tr>\n",
              "      <th>Iceland</th>\n",
              "      <td>83.0</td>\n",
              "      <td>0.926</td>\n",
              "    </tr>\n",
              "    <tr>\n",
              "      <th>Hong Kong, China (SAR)</th>\n",
              "      <td>84.9</td>\n",
              "      <td>0.880</td>\n",
              "    </tr>\n",
              "    <tr>\n",
              "      <th>...</th>\n",
              "      <td>...</td>\n",
              "      <td>...</td>\n",
              "    </tr>\n",
              "    <tr>\n",
              "      <th>South Sudan</th>\n",
              "      <td>57.9</td>\n",
              "      <td>0.307</td>\n",
              "    </tr>\n",
              "    <tr>\n",
              "      <th>Burundi</th>\n",
              "      <td>61.6</td>\n",
              "      <td>0.417</td>\n",
              "    </tr>\n",
              "    <tr>\n",
              "      <th>Chad</th>\n",
              "      <td>54.2</td>\n",
              "      <td>0.288</td>\n",
              "    </tr>\n",
              "    <tr>\n",
              "      <th>Central African Republic</th>\n",
              "      <td>53.3</td>\n",
              "      <td>0.353</td>\n",
              "    </tr>\n",
              "    <tr>\n",
              "      <th>Niger</th>\n",
              "      <td>62.4</td>\n",
              "      <td>0.249</td>\n",
              "    </tr>\n",
              "  </tbody>\n",
              "</table>\n",
              "<p>189 rows × 2 columns</p>\n",
              "</div>\n",
              "      <button class=\"colab-df-convert\" onclick=\"convertToInteractive('df-08027308-fa06-458f-9de9-865ebe2bb044')\"\n",
              "              title=\"Convert this dataframe to an interactive table.\"\n",
              "              style=\"display:none;\">\n",
              "        \n",
              "  <svg xmlns=\"http://www.w3.org/2000/svg\" height=\"24px\"viewBox=\"0 0 24 24\"\n",
              "       width=\"24px\">\n",
              "    <path d=\"M0 0h24v24H0V0z\" fill=\"none\"/>\n",
              "    <path d=\"M18.56 5.44l.94 2.06.94-2.06 2.06-.94-2.06-.94-.94-2.06-.94 2.06-2.06.94zm-11 1L8.5 8.5l.94-2.06 2.06-.94-2.06-.94L8.5 2.5l-.94 2.06-2.06.94zm10 10l.94 2.06.94-2.06 2.06-.94-2.06-.94-.94-2.06-.94 2.06-2.06.94z\"/><path d=\"M17.41 7.96l-1.37-1.37c-.4-.4-.92-.59-1.43-.59-.52 0-1.04.2-1.43.59L10.3 9.45l-7.72 7.72c-.78.78-.78 2.05 0 2.83L4 21.41c.39.39.9.59 1.41.59.51 0 1.02-.2 1.41-.59l7.78-7.78 2.81-2.81c.8-.78.8-2.07 0-2.86zM5.41 20L4 18.59l7.72-7.72 1.47 1.35L5.41 20z\"/>\n",
              "  </svg>\n",
              "      </button>\n",
              "      \n",
              "  <style>\n",
              "    .colab-df-container {\n",
              "      display:flex;\n",
              "      flex-wrap:wrap;\n",
              "      gap: 12px;\n",
              "    }\n",
              "\n",
              "    .colab-df-convert {\n",
              "      background-color: #E8F0FE;\n",
              "      border: none;\n",
              "      border-radius: 50%;\n",
              "      cursor: pointer;\n",
              "      display: none;\n",
              "      fill: #1967D2;\n",
              "      height: 32px;\n",
              "      padding: 0 0 0 0;\n",
              "      width: 32px;\n",
              "    }\n",
              "\n",
              "    .colab-df-convert:hover {\n",
              "      background-color: #E2EBFA;\n",
              "      box-shadow: 0px 1px 2px rgba(60, 64, 67, 0.3), 0px 1px 3px 1px rgba(60, 64, 67, 0.15);\n",
              "      fill: #174EA6;\n",
              "    }\n",
              "\n",
              "    [theme=dark] .colab-df-convert {\n",
              "      background-color: #3B4455;\n",
              "      fill: #D2E3FC;\n",
              "    }\n",
              "\n",
              "    [theme=dark] .colab-df-convert:hover {\n",
              "      background-color: #434B5C;\n",
              "      box-shadow: 0px 1px 3px 1px rgba(0, 0, 0, 0.15);\n",
              "      filter: drop-shadow(0px 1px 2px rgba(0, 0, 0, 0.3));\n",
              "      fill: #FFFFFF;\n",
              "    }\n",
              "  </style>\n",
              "\n",
              "      <script>\n",
              "        const buttonEl =\n",
              "          document.querySelector('#df-08027308-fa06-458f-9de9-865ebe2bb044 button.colab-df-convert');\n",
              "        buttonEl.style.display =\n",
              "          google.colab.kernel.accessAllowed ? 'block' : 'none';\n",
              "\n",
              "        async function convertToInteractive(key) {\n",
              "          const element = document.querySelector('#df-08027308-fa06-458f-9de9-865ebe2bb044');\n",
              "          const dataTable =\n",
              "            await google.colab.kernel.invokeFunction('convertToInteractive',\n",
              "                                                     [key], {});\n",
              "          if (!dataTable) return;\n",
              "\n",
              "          const docLinkHtml = 'Like what you see? Visit the ' +\n",
              "            '<a target=\"_blank\" href=https://colab.research.google.com/notebooks/data_table.ipynb>data table notebook</a>'\n",
              "            + ' to learn more about interactive tables.';\n",
              "          element.innerHTML = '';\n",
              "          dataTable['output_type'] = 'display_data';\n",
              "          await google.colab.output.renderOutput(dataTable, element);\n",
              "          const docLink = document.createElement('div');\n",
              "          docLink.innerHTML = docLinkHtml;\n",
              "          element.appendChild(docLink);\n",
              "        }\n",
              "      </script>\n",
              "    </div>\n",
              "  </div>\n",
              "  "
            ]
          },
          "metadata": {},
          "execution_count": 4
        }
      ]
    },
    {
      "cell_type": "markdown",
      "source": [
        "Mittels \".info()\" werden die allgemeinen Informationen zu den Spalten ausgegeben. Zu sehen ist, dass die Index-Spalte 189 Länder und die restlichen zwei Spalten 189 Einträge enthält. Die Werte dieser zwei Spalten haben den Datentyp \"float\"; d.h. eine Zahl mit Nachkommastellen. Zudem wurde die Datentabelle auf Null-Werte geprüft. Anhand der Überprüfung stellt sich heraus, dass keine Null-Werte enthalten sind. Dementsprechend ist die weitere Verarbeitung der Daten möglich."
      ],
      "metadata": {
        "id": "370Doh_kPHjJ"
      }
    },
    {
      "cell_type": "code",
      "source": [
        "dataset.info()"
      ],
      "metadata": {
        "colab": {
          "base_uri": "https://localhost:8080/"
        },
        "id": "QNqxAf_FNuNQ",
        "outputId": "1b4b9acc-34ba-482c-b462-721fa4a1c95d"
      },
      "execution_count": 5,
      "outputs": [
        {
          "output_type": "stream",
          "name": "stdout",
          "text": [
            "<class 'pandas.core.frame.DataFrame'>\n",
            "Index: 189 entries, Norway to Niger\n",
            "Data columns (total 2 columns):\n",
            " #   Column           Non-Null Count  Dtype  \n",
            "---  ------           --------------  -----  \n",
            " 0   life_expectancy  189 non-null    float64\n",
            " 1   education_index  189 non-null    float64\n",
            "dtypes: float64(2)\n",
            "memory usage: 4.4+ KB\n"
          ]
        }
      ]
    },
    {
      "cell_type": "markdown",
      "source": [
        "Mit der \".describe()\" Methode aus der Bibliothek Pandas erfolgt die Aufzählung aller wichtigen Kennzahlen beider Variablen. Der Mittelwert der Lebenserwartung liegt bei 72,72 Jahren und der vom Bildungsindex bei 0,66."
      ],
      "metadata": {
        "id": "_qz9B-lDMzDH"
      }
    },
    {
      "cell_type": "code",
      "source": [
        "dataset.describe()"
      ],
      "metadata": {
        "colab": {
          "base_uri": "https://localhost:8080/",
          "height": 300
        },
        "id": "khoogshnMzpV",
        "outputId": "578f2318-2d16-4cbe-f25c-1366c53c01b1"
      },
      "execution_count": 6,
      "outputs": [
        {
          "output_type": "execute_result",
          "data": {
            "text/plain": [
              "       life_expectancy  education_index\n",
              "count       189.000000       189.000000\n",
              "mean         72.715873         0.661095\n",
              "std           7.386335         0.174253\n",
              "min          53.300000         0.249000\n",
              "25%          67.400000         0.529000\n",
              "50%          74.100000         0.684000\n",
              "75%          77.900000         0.799000\n",
              "max          84.900000         0.943000"
            ],
            "text/html": [
              "\n",
              "  <div id=\"df-bf9b40c2-c9cc-40ad-83b1-c03abed8242b\">\n",
              "    <div class=\"colab-df-container\">\n",
              "      <div>\n",
              "<style scoped>\n",
              "    .dataframe tbody tr th:only-of-type {\n",
              "        vertical-align: middle;\n",
              "    }\n",
              "\n",
              "    .dataframe tbody tr th {\n",
              "        vertical-align: top;\n",
              "    }\n",
              "\n",
              "    .dataframe thead th {\n",
              "        text-align: right;\n",
              "    }\n",
              "</style>\n",
              "<table border=\"1\" class=\"dataframe\">\n",
              "  <thead>\n",
              "    <tr style=\"text-align: right;\">\n",
              "      <th></th>\n",
              "      <th>life_expectancy</th>\n",
              "      <th>education_index</th>\n",
              "    </tr>\n",
              "  </thead>\n",
              "  <tbody>\n",
              "    <tr>\n",
              "      <th>count</th>\n",
              "      <td>189.000000</td>\n",
              "      <td>189.000000</td>\n",
              "    </tr>\n",
              "    <tr>\n",
              "      <th>mean</th>\n",
              "      <td>72.715873</td>\n",
              "      <td>0.661095</td>\n",
              "    </tr>\n",
              "    <tr>\n",
              "      <th>std</th>\n",
              "      <td>7.386335</td>\n",
              "      <td>0.174253</td>\n",
              "    </tr>\n",
              "    <tr>\n",
              "      <th>min</th>\n",
              "      <td>53.300000</td>\n",
              "      <td>0.249000</td>\n",
              "    </tr>\n",
              "    <tr>\n",
              "      <th>25%</th>\n",
              "      <td>67.400000</td>\n",
              "      <td>0.529000</td>\n",
              "    </tr>\n",
              "    <tr>\n",
              "      <th>50%</th>\n",
              "      <td>74.100000</td>\n",
              "      <td>0.684000</td>\n",
              "    </tr>\n",
              "    <tr>\n",
              "      <th>75%</th>\n",
              "      <td>77.900000</td>\n",
              "      <td>0.799000</td>\n",
              "    </tr>\n",
              "    <tr>\n",
              "      <th>max</th>\n",
              "      <td>84.900000</td>\n",
              "      <td>0.943000</td>\n",
              "    </tr>\n",
              "  </tbody>\n",
              "</table>\n",
              "</div>\n",
              "      <button class=\"colab-df-convert\" onclick=\"convertToInteractive('df-bf9b40c2-c9cc-40ad-83b1-c03abed8242b')\"\n",
              "              title=\"Convert this dataframe to an interactive table.\"\n",
              "              style=\"display:none;\">\n",
              "        \n",
              "  <svg xmlns=\"http://www.w3.org/2000/svg\" height=\"24px\"viewBox=\"0 0 24 24\"\n",
              "       width=\"24px\">\n",
              "    <path d=\"M0 0h24v24H0V0z\" fill=\"none\"/>\n",
              "    <path d=\"M18.56 5.44l.94 2.06.94-2.06 2.06-.94-2.06-.94-.94-2.06-.94 2.06-2.06.94zm-11 1L8.5 8.5l.94-2.06 2.06-.94-2.06-.94L8.5 2.5l-.94 2.06-2.06.94zm10 10l.94 2.06.94-2.06 2.06-.94-2.06-.94-.94-2.06-.94 2.06-2.06.94z\"/><path d=\"M17.41 7.96l-1.37-1.37c-.4-.4-.92-.59-1.43-.59-.52 0-1.04.2-1.43.59L10.3 9.45l-7.72 7.72c-.78.78-.78 2.05 0 2.83L4 21.41c.39.39.9.59 1.41.59.51 0 1.02-.2 1.41-.59l7.78-7.78 2.81-2.81c.8-.78.8-2.07 0-2.86zM5.41 20L4 18.59l7.72-7.72 1.47 1.35L5.41 20z\"/>\n",
              "  </svg>\n",
              "      </button>\n",
              "      \n",
              "  <style>\n",
              "    .colab-df-container {\n",
              "      display:flex;\n",
              "      flex-wrap:wrap;\n",
              "      gap: 12px;\n",
              "    }\n",
              "\n",
              "    .colab-df-convert {\n",
              "      background-color: #E8F0FE;\n",
              "      border: none;\n",
              "      border-radius: 50%;\n",
              "      cursor: pointer;\n",
              "      display: none;\n",
              "      fill: #1967D2;\n",
              "      height: 32px;\n",
              "      padding: 0 0 0 0;\n",
              "      width: 32px;\n",
              "    }\n",
              "\n",
              "    .colab-df-convert:hover {\n",
              "      background-color: #E2EBFA;\n",
              "      box-shadow: 0px 1px 2px rgba(60, 64, 67, 0.3), 0px 1px 3px 1px rgba(60, 64, 67, 0.15);\n",
              "      fill: #174EA6;\n",
              "    }\n",
              "\n",
              "    [theme=dark] .colab-df-convert {\n",
              "      background-color: #3B4455;\n",
              "      fill: #D2E3FC;\n",
              "    }\n",
              "\n",
              "    [theme=dark] .colab-df-convert:hover {\n",
              "      background-color: #434B5C;\n",
              "      box-shadow: 0px 1px 3px 1px rgba(0, 0, 0, 0.15);\n",
              "      filter: drop-shadow(0px 1px 2px rgba(0, 0, 0, 0.3));\n",
              "      fill: #FFFFFF;\n",
              "    }\n",
              "  </style>\n",
              "\n",
              "      <script>\n",
              "        const buttonEl =\n",
              "          document.querySelector('#df-bf9b40c2-c9cc-40ad-83b1-c03abed8242b button.colab-df-convert');\n",
              "        buttonEl.style.display =\n",
              "          google.colab.kernel.accessAllowed ? 'block' : 'none';\n",
              "\n",
              "        async function convertToInteractive(key) {\n",
              "          const element = document.querySelector('#df-bf9b40c2-c9cc-40ad-83b1-c03abed8242b');\n",
              "          const dataTable =\n",
              "            await google.colab.kernel.invokeFunction('convertToInteractive',\n",
              "                                                     [key], {});\n",
              "          if (!dataTable) return;\n",
              "\n",
              "          const docLinkHtml = 'Like what you see? Visit the ' +\n",
              "            '<a target=\"_blank\" href=https://colab.research.google.com/notebooks/data_table.ipynb>data table notebook</a>'\n",
              "            + ' to learn more about interactive tables.';\n",
              "          element.innerHTML = '';\n",
              "          dataTable['output_type'] = 'display_data';\n",
              "          await google.colab.output.renderOutput(dataTable, element);\n",
              "          const docLink = document.createElement('div');\n",
              "          docLink.innerHTML = docLinkHtml;\n",
              "          element.appendChild(docLink);\n",
              "        }\n",
              "      </script>\n",
              "    </div>\n",
              "  </div>\n",
              "  "
            ]
          },
          "metadata": {},
          "execution_count": 6
        }
      ]
    },
    {
      "cell_type": "markdown",
      "source": [
        "Die gesamte Verteilung der beiden Spalten lässt sich durch zwei Histogramme verdeutlichen. Hierfür wird die \".hist()\" Methode aus der Bibliothek matplotlib benötigt. Das Attribut grid erhält die Variable False und das Attribut color erhällt die Variable beziehungsweise Farbe cadetblue. \n",
        "\n",
        "Aus den beiden Histogrammen lässt sich entnehmen, dass beide Verteilungen zwar nicht identisch sind, aber sich dennoch ähneln."
      ],
      "metadata": {
        "id": "k8owfAclNJd8"
      }
    },
    {
      "cell_type": "code",
      "source": [
        "dataset.hist(grid = False, color = 'cadetblue')"
      ],
      "metadata": {
        "colab": {
          "base_uri": "https://localhost:8080/",
          "height": 333
        },
        "id": "JBUAZzkKNKDS",
        "outputId": "62fa8d6d-3ea5-42b4-97e7-0249dac11902"
      },
      "execution_count": 7,
      "outputs": [
        {
          "output_type": "execute_result",
          "data": {
            "text/plain": [
              "array([[<matplotlib.axes._subplots.AxesSubplot object at 0x7ff6a9567510>,\n",
              "        <matplotlib.axes._subplots.AxesSubplot object at 0x7ff68a2cff50>]],\n",
              "      dtype=object)"
            ]
          },
          "metadata": {},
          "execution_count": 7
        },
        {
          "output_type": "display_data",
          "data": {
            "text/plain": [
              "<Figure size 432x288 with 2 Axes>"
            ],
            "image/png": "[encoded data removed]"
          },
          "metadata": {
            "needs_background": "light"
          }
        }
      ]
    },
    {
      "cell_type": "markdown",
      "source": [
        "Im Optimalfall sollten die beiden Variablen normalverteilt sein. Dafür müssen diese auf die Metriken Wölbung (kurtosis) und Schiefe (skew) untersucht werden. Zunächst wird die kurtosis des Bildungsindexes und der Lebenserwartung mithilfe der Funktion kurtosis mit der Fisher Methode berechnet. Danach wird die skew Funktion angewendet, um die Schiefe zu ermitteln. Anschließend werden alle Werte bis zur zweiten Nachkommastelle ausgegeben. \n",
        "\n",
        "Da die kurtosis Werte des Bildungsindexes -0,77 und der Lebenserwartun -0,39 betragen, liegen diese nah an dem Wert Null, wobei die beiden Variablen normalverteilt sind. \n",
        "\n",
        "Die skew Werte des Bildungsindexes und der Lebenserwartung betragen -0,34 und -0,56, bedeutet dies, dass die Verteilung vom Bildungsindex symmetrisch ist, aber die der Lebenserwartung fast symmetrisch ist."
      ],
      "metadata": {
        "id": "SqQQZDq4NlZL"
      }
    },
    {
      "cell_type": "code",
      "source": [
        "# kurtosis berechnen mit Fisher-Methode. \n",
        "education_kurtosis = kurtosis(dataset['education_index'], fisher = True)\n",
        "life_exp_kurtosis = kurtosis(dataset['life_expectancy'], fisher = True)\n",
        "\n",
        "# skew berechnen \n",
        "education_skew = skew(dataset['education_index'])\n",
        "life_exp_skew = skew(dataset['life_expectancy'])\n",
        "\n",
        "display(\"Education Index Kurtosis beträgt {:.2}.\".format(education_kurtosis)) \n",
        "display(\"Life Expectancy Kurtosis beträgt {:.2}.\".format(life_exp_kurtosis))    \n",
        "\n",
        "display(\"Education Index Skew beträgt {:.2}.\".format(education_skew))         \n",
        "display(\"Life Expectancy Skew beträgt {:.2}.\".format(life_exp_skew))"
      ],
      "metadata": {
        "colab": {
          "base_uri": "https://localhost:8080/",
          "height": 89
        },
        "id": "J7iFbL9pNlm6",
        "outputId": "6d6cd54b-2855-42a4-a5c8-1d146ba74bb3"
      },
      "execution_count": 28,
      "outputs": [
        {
          "output_type": "display_data",
          "data": {
            "text/plain": [
              "'Education Index Kurtosis beträgt -0.77.'"
            ],
            "application/vnd.google.colaboratory.intrinsic+json": {
              "type": "string"
            }
          },
          "metadata": {}
        },
        {
          "output_type": "display_data",
          "data": {
            "text/plain": [
              "'Life Expectancy Kurtosis beträgt -0.39.'"
            ],
            "application/vnd.google.colaboratory.intrinsic+json": {
              "type": "string"
            }
          },
          "metadata": {}
        },
        {
          "output_type": "display_data",
          "data": {
            "text/plain": [
              "'Education Index Skew beträgt -0.34.'"
            ],
            "application/vnd.google.colaboratory.intrinsic+json": {
              "type": "string"
            }
          },
          "metadata": {}
        },
        {
          "output_type": "display_data",
          "data": {
            "text/plain": [
              "'Life Expectancy Skew beträgt -0.56.'"
            ],
            "application/vnd.google.colaboratory.intrinsic+json": {
              "type": "string"
            }
          },
          "metadata": {}
        }
      ]
    },
    {
      "cell_type": "markdown",
      "source": [
        "### 2.3 Korrelation"
      ],
      "metadata": {
        "id": "18i7Hv-zPPlv"
      }
    },
    {
      "cell_type": "markdown",
      "source": [
        "Vor dem Erstellen des Streudiagramms sollen die x- und y-Achsen definiert werden. Für die Werte der x-Achse wird die Einflussvariable \"education_index\" gewählt, während für die Werte der y-Achse die Zielvariable \"life_expectancy\" gewählt wird. \n",
        "Im zweiten Teil des Codes wird mit der Bibliothek matplotlib das Streudiagramm erstellt. Das Attribut \"o\" sorgt dafür, dass die Darstellung der Werte im Diagramm als Punkte erfolgt; jeder Punkt repräsentiert ein Land. Hinzukommt, dass die Punkte im Code die Farbe \"cadetblue\" zugewiesen bekommen haben. \n",
        "Im letzten Teil des Codes bekommt das Streudiagramm mit der title-Methode eine Beschriftung (\"Bildungsindex vs. Lebenserwartung\"), sowie die Achsenbeschriftungen (x-Achse = \"Bildungsindex\" und y-Achse = \"Lebenserwartung\"). Mittels plt.show() wird das gesamte Streudiagramm dargestellt. \n",
        "\n",
        "Die Werte des unten abgebildeten Streudiagramms positiv verstreut; dies bedeutet, dass je höher der Bildungsindex ist, desto größer ist die jeweilige Lebenserwartung. Um sicherzustellen, dass die Hypothese der Wahrheit entspricht, wird der Korrelationskoeffizient benötigt. "
      ],
      "metadata": {
        "id": "aqNj8eRH73qC"
      }
    },
    {
      "cell_type": "code",
      "source": [
        "x = dataset['education_index']\n",
        "y = dataset['life_expectancy']\n",
        "\n",
        "plt.plot(x, y, 'o', color ='cadetblue', label = 'Staat')\n",
        "\n",
        "plt.title(\"Bildungsindex vs. Lebenserwartung\")\n",
        "plt.xlabel(\"Bildungsindex\")\n",
        "plt.ylabel(\"Lebenserwartung\")\n",
        "plt.legend()\n",
        "\n",
        "plt.show()"
      ],
      "metadata": {
        "colab": {
          "base_uri": "https://localhost:8080/",
          "height": 295
        },
        "id": "tbaRefA2ejNH",
        "outputId": "348670b3-6246-4347-e9de-095702fe9fc1"
      },
      "execution_count": 9,
      "outputs": [
        {
          "output_type": "display_data",
          "data": {
            "text/plain": [
              "<Figure size 432x288 with 1 Axes>"
            ],
            "image/png": "[encoded data removed]"
          },
          "metadata": {
            "needs_background": "light"
          }
        }
      ]
    },
    {
      "cell_type": "markdown",
      "source": [
        "Der Korrelationskoeffizient wird unten ausgegeben; der Koeffizient wird entweder in der ersten Zeile und zweiten Spalte oder in der zweiten Zeile und ersten Spalte abgelesen. Dieser beträgt 0,81382 (81,382%) und ist somit größer als 0,8 was widerum darauf hindeutet, dass ein stark positiver Zusammenhang zwischen beiden Variablen besteht. "
      ],
      "metadata": {
        "id": "tCKSkfomBKtn"
      }
    },
    {
      "cell_type": "code",
      "source": [
        "dataset.corr() "
      ],
      "metadata": {
        "colab": {
          "base_uri": "https://localhost:8080/",
          "height": 130
        },
        "id": "Oy2pVY_de2Fj",
        "outputId": "2a186612-e593-48fb-840d-1ed5acd05a27"
      },
      "execution_count": null,
      "outputs": [
        {
          "output_type": "execute_result",
          "data": {
            "text/plain": [
              "                 life_expectancy  education_index\n",
              "life_expectancy         1.000000         0.818382\n",
              "education_index         0.818382         1.000000"
            ],
            "text/html": [
              "\n",
              "  <div id=\"df-980032c8-cc3f-4ad5-9f89-72b28454880b\">\n",
              "    <div class=\"colab-df-container\">\n",
              "      <div>\n",
              "<style scoped>\n",
              "    .dataframe tbody tr th:only-of-type {\n",
              "        vertical-align: middle;\n",
              "    }\n",
              "\n",
              "    .dataframe tbody tr th {\n",
              "        vertical-align: top;\n",
              "    }\n",
              "\n",
              "    .dataframe thead th {\n",
              "        text-align: right;\n",
              "    }\n",
              "</style>\n",
              "<table border=\"1\" class=\"dataframe\">\n",
              "  <thead>\n",
              "    <tr style=\"text-align: right;\">\n",
              "      <th></th>\n",
              "      <th>life_expectancy</th>\n",
              "      <th>education_index</th>\n",
              "    </tr>\n",
              "  </thead>\n",
              "  <tbody>\n",
              "    <tr>\n",
              "      <th>life_expectancy</th>\n",
              "      <td>1.000000</td>\n",
              "      <td>0.818382</td>\n",
              "    </tr>\n",
              "    <tr>\n",
              "      <th>education_index</th>\n",
              "      <td>0.818382</td>\n",
              "      <td>1.000000</td>\n",
              "    </tr>\n",
              "  </tbody>\n",
              "</table>\n",
              "</div>\n",
              "      <button class=\"colab-df-convert\" onclick=\"convertToInteractive('df-980032c8-cc3f-4ad5-9f89-72b28454880b')\"\n",
              "              title=\"Convert this dataframe to an interactive table.\"\n",
              "              style=\"display:none;\">\n",
              "        \n",
              "  <svg xmlns=\"http://www.w3.org/2000/svg\" height=\"24px\"viewBox=\"0 0 24 24\"\n",
              "       width=\"24px\">\n",
              "    <path d=\"M0 0h24v24H0V0z\" fill=\"none\"/>\n",
              "    <path d=\"M18.56 5.44l.94 2.06.94-2.06 2.06-.94-2.06-.94-.94-2.06-.94 2.06-2.06.94zm-11 1L8.5 8.5l.94-2.06 2.06-.94-2.06-.94L8.5 2.5l-.94 2.06-2.06.94zm10 10l.94 2.06.94-2.06 2.06-.94-2.06-.94-.94-2.06-.94 2.06-2.06.94z\"/><path d=\"M17.41 7.96l-1.37-1.37c-.4-.4-.92-.59-1.43-.59-.52 0-1.04.2-1.43.59L10.3 9.45l-7.72 7.72c-.78.78-.78 2.05 0 2.83L4 21.41c.39.39.9.59 1.41.59.51 0 1.02-.2 1.41-.59l7.78-7.78 2.81-2.81c.8-.78.8-2.07 0-2.86zM5.41 20L4 18.59l7.72-7.72 1.47 1.35L5.41 20z\"/>\n",
              "  </svg>\n",
              "      </button>\n",
              "      \n",
              "  <style>\n",
              "    .colab-df-container {\n",
              "      display:flex;\n",
              "      flex-wrap:wrap;\n",
              "      gap: 12px;\n",
              "    }\n",
              "\n",
              "    .colab-df-convert {\n",
              "      background-color: #E8F0FE;\n",
              "      border: none;\n",
              "      border-radius: 50%;\n",
              "      cursor: pointer;\n",
              "      display: none;\n",
              "      fill: #1967D2;\n",
              "      height: 32px;\n",
              "      padding: 0 0 0 0;\n",
              "      width: 32px;\n",
              "    }\n",
              "\n",
              "    .colab-df-convert:hover {\n",
              "      background-color: #E2EBFA;\n",
              "      box-shadow: 0px 1px 2px rgba(60, 64, 67, 0.3), 0px 1px 3px 1px rgba(60, 64, 67, 0.15);\n",
              "      fill: #174EA6;\n",
              "    }\n",
              "\n",
              "    [theme=dark] .colab-df-convert {\n",
              "      background-color: #3B4455;\n",
              "      fill: #D2E3FC;\n",
              "    }\n",
              "\n",
              "    [theme=dark] .colab-df-convert:hover {\n",
              "      background-color: #434B5C;\n",
              "      box-shadow: 0px 1px 3px 1px rgba(0, 0, 0, 0.15);\n",
              "      filter: drop-shadow(0px 1px 2px rgba(0, 0, 0, 0.3));\n",
              "      fill: #FFFFFF;\n",
              "    }\n",
              "  </style>\n",
              "\n",
              "      <script>\n",
              "        const buttonEl =\n",
              "          document.querySelector('#df-980032c8-cc3f-4ad5-9f89-72b28454880b button.colab-df-convert');\n",
              "        buttonEl.style.display =\n",
              "          google.colab.kernel.accessAllowed ? 'block' : 'none';\n",
              "\n",
              "        async function convertToInteractive(key) {\n",
              "          const element = document.querySelector('#df-980032c8-cc3f-4ad5-9f89-72b28454880b');\n",
              "          const dataTable =\n",
              "            await google.colab.kernel.invokeFunction('convertToInteractive',\n",
              "                                                     [key], {});\n",
              "          if (!dataTable) return;\n",
              "\n",
              "          const docLinkHtml = 'Like what you see? Visit the ' +\n",
              "            '<a target=\"_blank\" href=https://colab.research.google.com/notebooks/data_table.ipynb>data table notebook</a>'\n",
              "            + ' to learn more about interactive tables.';\n",
              "          element.innerHTML = '';\n",
              "          dataTable['output_type'] = 'display_data';\n",
              "          await google.colab.output.renderOutput(dataTable, element);\n",
              "          const docLink = document.createElement('div');\n",
              "          docLink.innerHTML = docLinkHtml;\n",
              "          element.appendChild(docLink);\n",
              "        }\n",
              "      </script>\n",
              "    </div>\n",
              "  </div>\n",
              "  "
            ]
          },
          "metadata": {},
          "execution_count": 27
        }
      ]
    },
    {
      "cell_type": "markdown",
      "source": [
        "## 3 Machine Learning"
      ],
      "metadata": {
        "id": "7AMv2OWwzi5i"
      }
    },
    {
      "cell_type": "markdown",
      "source": [
        "### 3.1 Modellentwicklung"
      ],
      "metadata": {
        "id": "hIjcoU8kRia1"
      }
    },
    {
      "cell_type": "markdown",
      "source": [
        "In diesem Teil wird ein Lineares Regressionsmodell entwickelt, welches aus zwei Datensätze (Trainings- und Testdatensatz) bestehen soll. Der Trainingsdatensatz wird benötigt, um den Computer darauf zu programmieren, den Zusammenhang zwischen der Lebenserwartung und dem Bildungsindex zu erkennen. Der Testdatendatz widerum prüft, inwiefern der Computer diesen Zusammenhang versteht. \n",
        "\n",
        "Um ein Modell zu entwickeln, werden zunächst die x- und y-Variablen definiert. Hierbei ist die x-Variable der Bildungsindex, weil es eine Einflussvariable ist, und die y-Varibale die Lebenserwartung, da diese die Zeilvariable ist, welche von Einflussvariable abhängig ist. Da jeweils zwei x- und y-Werte für den Datensatz erstellt werden, werden anschließend vier Datensätze (für x und y jeweils einmal die Zuweisung des Trainings- und Testdatensatzes) codiert. Ermöglicht wird dies mit der Funktion \"train_test_split\" aus der Bibliothek sklearn. Bei dieser Funktion werden die x- und y-Werte entgegengenommen, dabei betragen die Proportionen zwischen dem Trainingsdatensatz 65% und dem Testdatensatz 35% des gesamten Datensatzes. "
      ],
      "metadata": {
        "id": "pBfviU2bEW87"
      }
    },
    {
      "cell_type": "code",
      "source": [
        "# definiere die x- und y-Variable. \n",
        "X = dataset.drop('life_expectancy', axis = 1)\n",
        "Y = dataset[['life_expectancy']]\n",
        "\n",
        "# Erstelle den Trainings- und Testdatensatz. \n",
        "X_train, X_test, y_train, y_test = train_test_split(X, Y, test_size=0.35)"
      ],
      "metadata": {
        "id": "DKwKEUqqYEk8"
      },
      "execution_count": 12,
      "outputs": []
    },
    {
      "cell_type": "markdown",
      "source": [
        "Nachdem der Datensatz in zwei Teilen getrennt wurde, wird das Modell \"LinearRegression()\" aus derselben Bibliothek sklearn angewendet und hinterher mittels .fit() optimiert. Das Modell enthält die x- sowie y- Trainingsdatensätze."
      ],
      "metadata": {
        "id": "A3yFzqvDJs9N"
      }
    },
    {
      "cell_type": "code",
      "source": [
        "# erstelle ein Modell zur Linearen Regression als Objekt.\n",
        "lin_reg_modell = LinearRegression()\n",
        "\n",
        "# Übergebe den Trainingsdatensatz an das Modell.\n",
        "lin_reg_modell.fit(X_train, y_train)"
      ],
      "metadata": {
        "colab": {
          "base_uri": "https://localhost:8080/"
        },
        "id": "IIg-_6H5ZrxF",
        "outputId": "21bfd46a-2220-4e93-b518-bbe7e6dc9bd0"
      },
      "execution_count": 39,
      "outputs": [
        {
          "output_type": "execute_result",
          "data": {
            "text/plain": [
              "LinearRegression()"
            ]
          },
          "metadata": {},
          "execution_count": 39
        }
      ]
    },
    {
      "cell_type": "markdown",
      "source": [
        "Die Formel der Regression sieht wie folgt aus: y = β0 + β1*x . Die y- und x-Werte sind bereits im Trainingsdatensatz abgebildet, allerdings sind der y-Achsenabschnitt (Intercept oder Beta 0) und die Steigung (Koeffizient oder Beta 1) unbekannt. Beide Ausdrücke werden mit \".intercept_\" und \"coef_\" berechnet. Intercept ist in diesem Fall ca. 50,36 und der Koeffizient 34. "
      ],
      "metadata": {
        "id": "KXoUih7yK6xQ"
      }
    },
    {
      "cell_type": "code",
      "source": [
        "intercept = lin_reg_modell.intercept_[0]\n",
        "coefficient = lin_reg_modell.coef_[0][0]\n",
        "\n",
        "print(\"Der y-Achsenabschnitt der Regressionsgeraden liegt bei {:.4}.\".format(intercept))\n",
        "print(\"Die Steigung der Regressionsgeraden liegt bei {:.2}.\".format(coefficient))"
      ],
      "metadata": {
        "colab": {
          "base_uri": "https://localhost:8080/"
        },
        "id": "TVVZwsquZtIF",
        "outputId": "31ad2f2d-c8e3-4329-ae84-7d37be72f328"
      },
      "execution_count": 40,
      "outputs": [
        {
          "output_type": "stream",
          "name": "stdout",
          "text": [
            "Der y-Achsenabschnitt der Regressionsgeraden liegt bei 50.36.\n",
            "Die Steigung der Regressionsgeraden liegt bei 3.4e+01.\n"
          ]
        }
      ]
    },
    {
      "cell_type": "markdown",
      "source": [
        "### 3.2 Modell Anwendung"
      ],
      "metadata": {
        "id": "f6cga_sTS3Bt"
      }
    },
    {
      "cell_type": "markdown",
      "source": [
        "Das Modell wird erstmal auf ein bestimmes Land getestet, welches zufällig aus dem Testdatensatz gewählt wird. Ausgewählt wurde das Land Dänemark mit dem Bildungsindex 0,92 und der Lebenserwartung 80,9. Mithilfe von \".predict()\" wird die Lebenserwartung unter der Angabe des Bildungsindex ausgerechnet. Der hervorgesagte Wert beträgt 81.46 Jahre. Somit ist das Modell nah an dem Wahrheitswert. Dennoch muss der gesamte Testdatensatz untersucht werden."
      ],
      "metadata": {
        "id": "9_f5zff4RYTo"
      }
    },
    {
      "cell_type": "code",
      "source": [
        "prediction = lin_reg_modell.predict([[0.92]])\n",
        "predicted_value = prediction[0][0]\n",
        "print(\"Der vorhergesagte Wert für die mittlere Lebenserwartung in Dänemark lautet {:.4}.\".format(predicted_value))"
      ],
      "metadata": {
        "colab": {
          "base_uri": "https://localhost:8080/"
        },
        "id": "ZWG1OYLhlBbk",
        "outputId": "32696124-b36b-4941-fec7-1657b4b053da"
      },
      "execution_count": 41,
      "outputs": [
        {
          "output_type": "stream",
          "name": "stdout",
          "text": [
            "Der vorhergesagte Wert für die mittlere Lebenserwartung in Dänemark lautet 81.46.\n"
          ]
        },
        {
          "output_type": "stream",
          "name": "stderr",
          "text": [
            "/usr/local/lib/python3.7/dist-packages/sklearn/base.py:451: UserWarning: X does not have valid feature names, but LinearRegression was fitted with feature names\n",
            "  \"X does not have valid feature names, but\"\n"
          ]
        }
      ]
    },
    {
      "cell_type": "markdown",
      "source": [
        "### 3.3 Evaluation des Modells"
      ],
      "metadata": {
        "id": "IG2KZyvuVu2I"
      }
    },
    {
      "cell_type": "markdown",
      "source": [
        "In dieser Zelle wird mit der Evaluation begonnen. Aus der bestehenden x-Spalte wird zunächst eine neue Spalte mit der Beschriftung \"X2\" erstellt. Diese Spalte bildet gemeinsam mit der y-Spalte ein neues Modell, welches durch die Methode \".OLS()\" entwickelt wird. Anschließend wird das neue Modell optimiert. "
      ],
      "metadata": {
        "id": "U7VXxxa2Ubcb"
      }
    },
    {
      "cell_type": "code",
      "source": [
        "# definiere den input.\n",
        "X1 = sm.add_constant(X)\n",
        "\n",
        "# erstelle OLS modell.\n",
        "modell = sm.OLS(Y, X1)\n",
        "\n",
        "# optimiere den Datensatz.\n",
        "modell_opt = modell.fit()"
      ],
      "metadata": {
        "colab": {
          "base_uri": "https://localhost:8080/"
        },
        "id": "9PBEXve0nVAS",
        "outputId": "83bc3e83-7ef2-437a-de7d-608b31f23bb6"
      },
      "execution_count": 42,
      "outputs": [
        {
          "output_type": "stream",
          "name": "stderr",
          "text": [
            "/usr/local/lib/python3.7/dist-packages/statsmodels/tsa/tsatools.py:117: FutureWarning: In a future version of pandas all arguments of concat except for the argument 'objs' will be keyword-only\n",
            "  x = pd.concat(x[::order], 1)\n"
          ]
        }
      ]
    },
    {
      "cell_type": "markdown",
      "source": [
        "Um zu schauen, inwiefern ein Intervallunterschied bei dem y-Achsenabschnitt und der Steigung vorhanden ist, wird mit dem 95%-Konfidenzintervall gerechnet. Die passende Methode hierzu ist \".conf_int()\". Die Intervalle zeigen an, dass die Intercept sich zwischen 37,38 und 52,19 variieren kann, während der Koeffizient sich zwischen 31,18 und 38,20 befindet. "
      ],
      "metadata": {
        "id": "bvq330LRWNkj"
      }
    },
    {
      "cell_type": "code",
      "source": [
        "# berechne einen 95%-Konfidenzintervall.\n",
        "modell_opt.conf_int()"
      ],
      "metadata": {
        "colab": {
          "base_uri": "https://localhost:8080/",
          "height": 112
        },
        "id": "tpj-f6nFndmv",
        "outputId": "2fc9a22b-f614-49f6-b519-b6ed42e06ef1"
      },
      "execution_count": 43,
      "outputs": [
        {
          "output_type": "execute_result",
          "data": {
            "text/plain": [
              "                         0          1\n",
              "const            47.380394  52.184602\n",
              "education_index  31.175849  38.204095"
            ],
            "text/html": [
              "\n",
              "  <div id=\"df-503c8997-a724-41af-a88c-64c30b038a21\">\n",
              "    <div class=\"colab-df-container\">\n",
              "      <div>\n",
              "<style scoped>\n",
              "    .dataframe tbody tr th:only-of-type {\n",
              "        vertical-align: middle;\n",
              "    }\n",
              "\n",
              "    .dataframe tbody tr th {\n",
              "        vertical-align: top;\n",
              "    }\n",
              "\n",
              "    .dataframe thead th {\n",
              "        text-align: right;\n",
              "    }\n",
              "</style>\n",
              "<table border=\"1\" class=\"dataframe\">\n",
              "  <thead>\n",
              "    <tr style=\"text-align: right;\">\n",
              "      <th></th>\n",
              "      <th>0</th>\n",
              "      <th>1</th>\n",
              "    </tr>\n",
              "  </thead>\n",
              "  <tbody>\n",
              "    <tr>\n",
              "      <th>const</th>\n",
              "      <td>47.380394</td>\n",
              "      <td>52.184602</td>\n",
              "    </tr>\n",
              "    <tr>\n",
              "      <th>education_index</th>\n",
              "      <td>31.175849</td>\n",
              "      <td>38.204095</td>\n",
              "    </tr>\n",
              "  </tbody>\n",
              "</table>\n",
              "</div>\n",
              "      <button class=\"colab-df-convert\" onclick=\"convertToInteractive('df-503c8997-a724-41af-a88c-64c30b038a21')\"\n",
              "              title=\"Convert this dataframe to an interactive table.\"\n",
              "              style=\"display:none;\">\n",
              "        \n",
              "  <svg xmlns=\"http://www.w3.org/2000/svg\" height=\"24px\"viewBox=\"0 0 24 24\"\n",
              "       width=\"24px\">\n",
              "    <path d=\"M0 0h24v24H0V0z\" fill=\"none\"/>\n",
              "    <path d=\"M18.56 5.44l.94 2.06.94-2.06 2.06-.94-2.06-.94-.94-2.06-.94 2.06-2.06.94zm-11 1L8.5 8.5l.94-2.06 2.06-.94-2.06-.94L8.5 2.5l-.94 2.06-2.06.94zm10 10l.94 2.06.94-2.06 2.06-.94-2.06-.94-.94-2.06-.94 2.06-2.06.94z\"/><path d=\"M17.41 7.96l-1.37-1.37c-.4-.4-.92-.59-1.43-.59-.52 0-1.04.2-1.43.59L10.3 9.45l-7.72 7.72c-.78.78-.78 2.05 0 2.83L4 21.41c.39.39.9.59 1.41.59.51 0 1.02-.2 1.41-.59l7.78-7.78 2.81-2.81c.8-.78.8-2.07 0-2.86zM5.41 20L4 18.59l7.72-7.72 1.47 1.35L5.41 20z\"/>\n",
              "  </svg>\n",
              "      </button>\n",
              "      \n",
              "  <style>\n",
              "    .colab-df-container {\n",
              "      display:flex;\n",
              "      flex-wrap:wrap;\n",
              "      gap: 12px;\n",
              "    }\n",
              "\n",
              "    .colab-df-convert {\n",
              "      background-color: #E8F0FE;\n",
              "      border: none;\n",
              "      border-radius: 50%;\n",
              "      cursor: pointer;\n",
              "      display: none;\n",
              "      fill: #1967D2;\n",
              "      height: 32px;\n",
              "      padding: 0 0 0 0;\n",
              "      width: 32px;\n",
              "    }\n",
              "\n",
              "    .colab-df-convert:hover {\n",
              "      background-color: #E2EBFA;\n",
              "      box-shadow: 0px 1px 2px rgba(60, 64, 67, 0.3), 0px 1px 3px 1px rgba(60, 64, 67, 0.15);\n",
              "      fill: #174EA6;\n",
              "    }\n",
              "\n",
              "    [theme=dark] .colab-df-convert {\n",
              "      background-color: #3B4455;\n",
              "      fill: #D2E3FC;\n",
              "    }\n",
              "\n",
              "    [theme=dark] .colab-df-convert:hover {\n",
              "      background-color: #434B5C;\n",
              "      box-shadow: 0px 1px 3px 1px rgba(0, 0, 0, 0.15);\n",
              "      filter: drop-shadow(0px 1px 2px rgba(0, 0, 0, 0.3));\n",
              "      fill: #FFFFFF;\n",
              "    }\n",
              "  </style>\n",
              "\n",
              "      <script>\n",
              "        const buttonEl =\n",
              "          document.querySelector('#df-503c8997-a724-41af-a88c-64c30b038a21 button.colab-df-convert');\n",
              "        buttonEl.style.display =\n",
              "          google.colab.kernel.accessAllowed ? 'block' : 'none';\n",
              "\n",
              "        async function convertToInteractive(key) {\n",
              "          const element = document.querySelector('#df-503c8997-a724-41af-a88c-64c30b038a21');\n",
              "          const dataTable =\n",
              "            await google.colab.kernel.invokeFunction('convertToInteractive',\n",
              "                                                     [key], {});\n",
              "          if (!dataTable) return;\n",
              "\n",
              "          const docLinkHtml = 'Like what you see? Visit the ' +\n",
              "            '<a target=\"_blank\" href=https://colab.research.google.com/notebooks/data_table.ipynb>data table notebook</a>'\n",
              "            + ' to learn more about interactive tables.';\n",
              "          element.innerHTML = '';\n",
              "          dataTable['output_type'] = 'display_data';\n",
              "          await google.colab.output.renderOutput(dataTable, element);\n",
              "          const docLink = document.createElement('div');\n",
              "          docLink.innerHTML = docLinkHtml;\n",
              "          element.appendChild(docLink);\n",
              "        }\n",
              "      </script>\n",
              "    </div>\n",
              "  </div>\n",
              "  "
            ]
          },
          "metadata": {},
          "execution_count": 43
        }
      ]
    },
    {
      "cell_type": "markdown",
      "source": [
        "Anhand der p-Werte wird deutlich, ob die zwei Parameter ungleich Null sind. Hierfür werden zwei Hypothesen formuliert: \n",
        "1.   Nullhypothese: Intercept = 0 bzw. Koeffizient = 0\n",
        "2.   Alternativhypothese Intercept ≠ 0 bzw. Koeffizient ≠ 0.\n",
        "\n",
        "Um die Nullhypothese abzulehnen, muss der p-Wert kleiner als 5% sein. Da dies bei beiden Parametern zutrifft, wird die Nullhypothese abgelehnt. Somit sind sowohl die Steigung als auch der y-Achsenabschnitt ungleich Null. \n"
      ],
      "metadata": {
        "id": "cmKjHDeBcXKK"
      }
    },
    {
      "cell_type": "code",
      "source": [
        "modell_opt.pvalues"
      ],
      "metadata": {
        "colab": {
          "base_uri": "https://localhost:8080/"
        },
        "id": "1OHU7c6HnkwY",
        "outputId": "4291ef30-56d1-47aa-e0e0-cfa8f22f6228"
      },
      "execution_count": 44,
      "outputs": [
        {
          "output_type": "execute_result",
          "data": {
            "text/plain": [
              "const              3.457609e-95\n",
              "education_index    7.299090e-47\n",
              "dtype: float64"
            ]
          },
          "metadata": {},
          "execution_count": 44
        }
      ]
    },
    {
      "cell_type": "markdown",
      "source": [
        "Für die Evaluation werden die drei Bewertungsmetriken MSE (Mean Squared Error), MAE (Mean Absolute Error) und RMSE (Root Mean Squared Error) herangezogen. Mit Hilfe der \".predict()\" Methode werden alle y-Werte des Testdatensatzes vorhergesagt. Darauffolgend werden MSE und MAE mittels \"mean_squared_error\" und \"mean_absolute_error\" Funktionen berechnet. Um den RMSE zu berechnen, wird die zu der Bibliothek \"math\" gehörende Wurzelfunktion \"math.sqrt()\" an den MSE Wert angewendet. \n",
        "\n",
        "Als Resultat wird 20,3 für MSE, 3,67 für MAE und 4,51 für RMSE ausgegeben. Das deutet darauf hin, dass laut dem Ergebnis des MAE das entwickelte Modell optimal ist, laut MSE und RMSE allerdings verbesserungsfähig ist. "
      ],
      "metadata": {
        "id": "XyYVKtkPeGLL"
      }
    },
    {
      "cell_type": "code",
      "source": [
        "y_predict = lin_reg_modell.predict(X_test)\n",
        "# berechne den MSE.\n",
        "modell_mse = mean_squared_error(y_test, y_predict)\n",
        "\n",
        "# berechne den MAE.\n",
        "modell_mae = mean_absolute_error(y_test, y_predict)\n",
        "\n",
        "# berechne RMSE. \n",
        "modell_rmse =  math.sqrt(modell_mse)\n",
        "\n",
        "# zeige Ausgabe.\n",
        "print(\"MSE: {:.3}\".format(modell_mse))\n",
        "print(\"MAE: {:.3}\".format(modell_mae))\n",
        "print(\"RMSE: {:.3}\".format(modell_rmse))"
      ],
      "metadata": {
        "colab": {
          "base_uri": "https://localhost:8080/"
        },
        "id": "rEIJ5eh-nqVh",
        "outputId": "fd2fa7c8-5393-48ff-bdf1-66c66d5ffe1f"
      },
      "execution_count": 45,
      "outputs": [
        {
          "output_type": "stream",
          "name": "stdout",
          "text": [
            "MSE: 20.3\n",
            "MAE: 3.67\n",
            "RMSE: 4.51\n"
          ]
        }
      ]
    },
    {
      "cell_type": "markdown",
      "source": [
        "Als letzter Schritt zur Evaluation des Modells wird der Wert des R-Quadrats verwendet. Die Funktion \"r2_score\" wird an vorhergesagte und Wahre y-Werte des Testdatensatzes angewendet und gibt den Wert 0,64 aus. Laut der Faust-Regel ist jedes Modell optimal, wenn der R-Quadrat Wert größer gleich 0,71. "
      ],
      "metadata": {
        "id": "weqXYVhKiq8s"
      }
    },
    {
      "cell_type": "code",
      "source": [
        "modell_r2 = r2_score(y_test, y_predict)\n",
        "print(\"R2: {:.2}\".format(modell_r2))"
      ],
      "metadata": {
        "colab": {
          "base_uri": "https://localhost:8080/"
        },
        "id": "COjHK-Dvn1rk",
        "outputId": "165694cf-1954-46ce-b70f-e5e27001ec6d"
      },
      "execution_count": 46,
      "outputs": [
        {
          "output_type": "stream",
          "name": "stdout",
          "text": [
            "R2: 0.71\n"
          ]
        }
      ]
    },
    {
      "cell_type": "markdown",
      "source": [
        "Mit der Methode \".summary()\" werden alle relevanten Informationen zu der Regression dargestellt. In der Ausgabe beziehungsweise der Zusammenfassung werden nochmals die Steigung und der y-Achsenabschnitt ausgegeben. Der p-Wert ist hierbei bei beiden Parametern Null und der 95%-KI besitzt die selben Werte wie zuvor. \n",
        "\n",
        "In der oberen rechten Hälfte der Ausgabe befindet sich R-Quadrat mit dem Wert 0,67. Der Wert dieser Zusammenfassung unterscheidet sich von dem zuvor ausgerechneten Wert (0,71). "
      ],
      "metadata": {
        "id": "DpaDVIpakGMC"
      }
    },
    {
      "cell_type": "code",
      "source": [
        "print(modell_opt.summary())"
      ],
      "metadata": {
        "colab": {
          "base_uri": "https://localhost:8080/"
        },
        "id": "tTgtfdP9oP0s",
        "outputId": "0dd8e8d4-8063-4aa5-b753-12646bb4a434"
      },
      "execution_count": 47,
      "outputs": [
        {
          "output_type": "stream",
          "name": "stdout",
          "text": [
            "                            OLS Regression Results                            \n",
            "==============================================================================\n",
            "Dep. Variable:        life_expectancy   R-squared:                       0.670\n",
            "Model:                            OLS   Adj. R-squared:                  0.668\n",
            "Method:                 Least Squares   F-statistic:                     379.2\n",
            "Date:                Thu, 14 Jul 2022   Prob (F-statistic):           7.30e-47\n",
            "Time:                        16:10:54   Log-Likelihood:                -540.91\n",
            "No. Observations:                 189   AIC:                             1086.\n",
            "Df Residuals:                     187   BIC:                             1092.\n",
            "Df Model:                           1                                         \n",
            "Covariance Type:            nonrobust                                         \n",
            "===================================================================================\n",
            "                      coef    std err          t      P>|t|      [0.025      0.975]\n",
            "-----------------------------------------------------------------------------------\n",
            "const              49.7825      1.218     40.884      0.000      47.380      52.185\n",
            "education_index    34.6900      1.781     19.474      0.000      31.176      38.204\n",
            "==============================================================================\n",
            "Omnibus:                        8.197   Durbin-Watson:                   2.025\n",
            "Prob(Omnibus):                  0.017   Jarque-Bera (JB):                8.047\n",
            "Skew:                          -0.489   Prob(JB):                       0.0179\n",
            "Kurtosis:                       3.252   Cond. No.                         8.32\n",
            "==============================================================================\n",
            "\n",
            "Warnings:\n",
            "[1] Standard Errors assume that the covariance matrix of the errors is correctly specified.\n"
          ]
        }
      ]
    },
    {
      "cell_type": "markdown",
      "source": [
        "Um die Genauigkeit des Modells weiter zu prüfen, müssen die Risiduen (Differenz zwischen den wahren und den vorhergesagten y-Werten des Testdatensatzes) näher betrachtet werden. Diese müssen im Optimalfall normal verteilt sein. Bei der Darstellung des Histogramms soll die \".hist()\" Methode für die Differenz beider y-Werte verwendet werden. Das Histogramm bekommt die Beschriftung \"Verteilung der Residuen\" und wird anschließend mit dem Befehl \"plt.show()\" angezeigt.  \n",
        "\n",
        "Aus der Abbildung lässt sich entnehmen, dass die Verteilung der Risiduen der Normalverteilung ähnelt. "
      ],
      "metadata": {
        "id": "OMrGavnamahO"
      }
    },
    {
      "cell_type": "code",
      "source": [
        "(y_test - y_predict).hist(grid = False, color = 'royalblue')\n",
        "plt.title(\"Verteilung der Residuen\")\n",
        "plt.show()"
      ],
      "metadata": {
        "colab": {
          "base_uri": "https://localhost:8080/",
          "height": 281
        },
        "id": "0bGE-Dhoohpq",
        "outputId": "91a2a9d2-457f-4574-9fc3-bdc6c5157cc8"
      },
      "execution_count": 48,
      "outputs": [
        {
          "output_type": "display_data",
          "data": {
            "text/plain": [
              "<Figure size 432x288 with 1 Axes>"
            ],
            "image/png": "[encoded data removed]"
          },
          "metadata": {
            "needs_background": "light"
          }
        }
      ]
    },
    {
      "cell_type": "markdown",
      "source": [
        "Zum Schluss wird die Lineare Regression für den Testdatensatz genutzt. Hierfür wird ein Streudiagramm mit den grauen Punkten als einzelne Länder erstellt. Außerdem wird mittels \".plot()\" Methode eine Regressionsgerade in der Farbe \"royalblue\" mit einer Breite von 3px codiert. Daraufhin werden das gesamte Streudiagramm (\"Bildungsindex vs. Lebenserwartung\") mit den jeweiligen Achsen (x-Achse = Bildungsindex, y-Achse = Lebenserwartung) benannt. \n",
        "\n",
        "Die Regressionsfunktion verläuft mittig von den einzelnen Punkten und durchkreuzt einige dieser Werte. Dennoch sind viele Punkte weit von der Regressionsgerade distanziert. "
      ],
      "metadata": {
        "id": "MIvnCt_Topzg"
      }
    },
    {
      "cell_type": "code",
      "source": [
        "plt.scatter(X_test, y_test,  color='gainsboro', label = 'Staat')\n",
        "plt.plot(X_test, y_predict, color='royalblue', linewidth = 3, linestyle= '-',label ='Regression Line')\n",
        "\n",
        "plt.title(\"Bildungsindex vs. Lebenserwartung\")\n",
        "plt.xlabel(\"Bildungsindex\")\n",
        "plt.ylabel(\"Lebenserwartung\")\n",
        "plt.legend()\n",
        "plt.show()\n",
        "\n"
      ],
      "metadata": {
        "colab": {
          "base_uri": "https://localhost:8080/",
          "height": 295
        },
        "id": "ATKo_FKkowIM",
        "outputId": "17136673-3398-4e7b-8d4d-5ec220a86af5"
      },
      "execution_count": 49,
      "outputs": [
        {
          "output_type": "display_data",
          "data": {
            "text/plain": [
              "<Figure size 432x288 with 1 Axes>"
            ],
            "image/png": "[encoded data removed]"
          },
          "metadata": {
            "needs_background": "light"
          }
        }
      ]
    },
    {
      "cell_type": "markdown",
      "source": [
        "### 3.4 Speichern des Modells"
      ],
      "metadata": {
        "id": "MA4FMwpikrYZ"
      }
    },
    {
      "cell_type": "markdown",
      "source": [
        "Damit die mehrfach wiederholte Nutzung der Daten aus den Datensätzen mit dem selben Modell effizienter verläuft und die selben Resultate ausgibt, muss das Modell zunächst gespeichert werden. \n",
        "\n",
        "Die Bibliothek Pickle wird importiert, um das vorhandene Modell für die fortlaufende Nutzung mit weiteren Daten zu speichern; zuständig hierfür ist die \".dump()\"-Methode der Bibliothek. Daraufhin müssen die Daten mithilfe der \".load()\"-Methode erneut in das Notebook geladen werden. Abschließend wird eine neue Vorhersage zu Dänemark mittels \".predict()\" entworfen. Der vorhergesagte Wert stimmt mit dem zuvor ausgegebenen Wert überein. "
      ],
      "metadata": {
        "id": "b48GKUj5dDzo"
      }
    },
    {
      "cell_type": "code",
      "source": [
        "import pickle\n",
        "\n",
        "# speichere das Modell.\n",
        "with open('linear_regression.sav','wb') as speichern:\n",
        "     pickle.dump(lin_reg_modell,speichern)\n",
        "\n",
        "# Lade die Daten erneut.\n",
        "with open('linear_regression.sav', 'rb') as altes_modell:\n",
        "     lin_reg_modell_1 = pickle.load(altes_modell)\n",
        "\n",
        "# Erstelle eine neue Vorhersage.\n",
        "lin_reg_modell_1.predict([[0.92]])"
      ],
      "metadata": {
        "colab": {
          "base_uri": "https://localhost:8080/"
        },
        "id": "WeZ7VSwkdEwO",
        "outputId": "4758934f-f749-4ce3-d2ae-1e28f887a410"
      },
      "execution_count": 51,
      "outputs": [
        {
          "output_type": "stream",
          "name": "stderr",
          "text": [
            "/usr/local/lib/python3.7/dist-packages/sklearn/base.py:451: UserWarning: X does not have valid feature names, but LinearRegression was fitted with feature names\n",
            "  \"X does not have valid feature names, but\"\n"
          ]
        },
        {
          "output_type": "execute_result",
          "data": {
            "text/plain": [
              "array([[81.45635961]])"
            ]
          },
          "metadata": {},
          "execution_count": 51
        }
      ]
    },
    {
      "cell_type": "markdown",
      "source": [
        "# 4 Fazit"
      ],
      "metadata": {
        "id": "V6o6ukPvb1SF"
      }
    },
    {
      "cell_type": "markdown",
      "source": [
        "Zusammenfassend lässt sich sagen, dass der Datensatz die Anforderungen für die Anwendung einer Linearen Regression erfüllt. Da die Regressionsgerade eine positive Steigung hat, deutet es darauf hin, dass in Staaten beziehungsweise Ländern mit einem höheren Bildungsindex, die Lebenserwartung ebenfalls höher ist.  Zudem schätzt das entwickelte Modell die Lebenserwartungen von den Staaten/Ländern mit einem höheren (ab 0,65) Bildungsindex ungefähr Realitätsgetreu. Dennoch sagt das Modell bei Staaten mit einem niedrigeren Bildungsindex falsche Lebenserwartungen hervor. "
      ],
      "metadata": {
        "id": "MVXqklR4ryf_"
      }
    },
    {
      "cell_type": "markdown",
      "source": [
        "# 5 Quellen"
      ],
      "metadata": {
        "id": "DrDKU9Hzlp8Z"
      }
    },
    {
      "cell_type": "markdown",
      "source": [
        "\n",
        "Quellen zum Datensatz:\n",
        "*   Wikipedia (o. J.): Education Index. Online unter https://en.wikipedia.org/wiki/Education_Index#:~:text=An%20Education%20index%20is%20a%20component%20of%20the,GDP%20per%20capita%20and%20life%20expectancy%20of%20countries. [Abruf am 11.07.2022]\n",
        "*   Human Development Reports (2020): Human Development Index (HDI). Online unter https://hdr.undp.org/data-center/human-development-index#/indicies/HDI [Abruf am 11.07.2022]\n",
        "*   Human Development Reports (2020): 2020_Statistical_Annex_Table_1. Online unter https://view.officeapps.live.com/op/view.aspx?src=https%3A%2F%2Fhdr.undp.org%2Fsites%2Fdefault%2Ffiles%2Fdata%2F2020%2F2020_Statistical_Annex_Table_1.xlsx&wdOrigin=BROWSELINK [Abruf am 11.07.2022]\n",
        "\n",
        "Quelle zu den Codes:\n",
        "*   Sigma Coding (2019):Liner Regression Model Tutorial. Online unter https://github.com/areed1192/sigma_coding_youtube/blob/master/python/python-data-science/machine-learning/simple-linear-regression/Linear%20Regression%20Model.ipynb [Abruf am 11.07.2022]\n",
        "*   Chugh, Akshita (2020): MAE, MSE, RMSE, Coefficient of Determination, Adjusted R Squared — Which Metric is Better? Online unter https://medium.com/analytics-vidhya/mae-mse-rmse-coefficient-of-determination-adjusted-r-squared-which-metric-is-better-cd0326a5697e [Abruf am 11.07.2022]\n",
        "\n",
        "\n",
        "\n",
        "\n",
        "\n",
        "\n"
      ],
      "metadata": {
        "id": "cKcoWs4WlvX7"
      }
    }
  ]
}